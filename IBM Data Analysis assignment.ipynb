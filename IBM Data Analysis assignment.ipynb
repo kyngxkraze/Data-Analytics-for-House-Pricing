{
    "cells": [
        {
            "cell_type": "markdown",
            "metadata": {},
            "source": [
                " <a href=\"https://www.bigdatauniversity.com\"><img src = \"https://ibm.box.com/shared/static/ugcqz6ohbvff804xp84y4kqnvvk3bq1g.png\" width = 300, align = \"center\"></a>\n",
                "\n",
                "<h1 align=center><font size = 5>Data Analysis with Python</font></h1>"
            ]
        },
        {
            "cell_type": "markdown",
            "metadata": {},
            "source": [
                "# House Sales in King County, USA"
            ]
        },
        {
            "cell_type": "markdown",
            "metadata": {},
            "source": [
                "This dataset contains house sale prices for King County, which includes Seattle. It includes homes sold between May 2014 and May 2015."
            ]
        },
        {
            "cell_type": "markdown",
            "metadata": {},
            "source": [
                "<b>id</b> : A notation for a house\n",
                "\n",
                "<b> date</b>: Date house was sold\n",
                "\n",
                "\n",
                "<b>price</b>: Price is prediction target\n",
                "\n",
                "\n",
                "<b>bedrooms</b>: Number of bedrooms\n",
                "\n",
                "\n",
                "<b>bathrooms</b>: Number of bathrooms\n",
                "\n",
                "<b>sqft_living</b>: Square footage of the home\n",
                "\n",
                "<b>sqft_lot</b>: Square footage of the lot\n",
                "\n",
                "\n",
                "<b>floors</b> :Total floors (levels) in house\n",
                "\n",
                "\n",
                "<b>waterfront</b> :House which has a view to a waterfront\n",
                "\n",
                "\n",
                "<b>view</b>: Has been viewed\n",
                "\n",
                "\n",
                "<b>condition</b> :How good the condition is overall\n",
                "\n",
                "<b>grade</b>: overall grade given to the housing unit, based on King County grading system\n",
                "\n",
                "\n",
                "<b>sqft_above</b> : Square footage of house apart from basement\n",
                "\n",
                "\n",
                "<b>sqft_basement</b>: Square footage of the basement\n",
                "\n",
                "<b>yr_built</b> : Built Year\n",
                "\n",
                "\n",
                "<b>yr_renovated</b> : Year when house was renovated\n",
                "\n",
                "<b>zipcode</b>: Zip code\n",
                "\n",
                "\n",
                "<b>lat</b>: Latitude coordinate\n",
                "\n",
                "<b>long</b>: Longitude coordinate\n",
                "\n",
                "<b>sqft_living15</b> : Living room area in 2015(implies-- some renovations) This might or might not have affected the lotsize area\n",
                "\n",
                "\n",
                "<b>sqft_lot15</b> : LotSize area in 2015(implies-- some renovations)"
            ]
        },
        {
            "cell_type": "markdown",
            "metadata": {},
            "source": [
                "You will require the following libraries: "
            ]
        },
        {
            "cell_type": "code",
            "execution_count": null,
            "metadata": {},
            "outputs": [],
            "source": [
                "import pandas as pd\n",
                "import matplotlib.pyplot as plt\n",
                "import numpy as np\n",
                "import seaborn as sns\n",
                "from sklearn.pipeline import Pipeline\n",
                "from sklearn.preprocessing import StandardScaler,PolynomialFeatures\n",
                "from sklearn.linear_model import LinearRegression\n",
                "%matplotlib inline"
            ]
        },
        {
            "cell_type": "markdown",
            "metadata": {},
            "source": [
                "# Module 1: Importing Data Sets "
            ]
        },
        {
            "cell_type": "markdown",
            "metadata": {},
            "source": [
                " Load the csv:  "
            ]
        },
        {
            "cell_type": "code",
            "execution_count": null,
            "metadata": {
                "jupyter": {
                    "outputs_hidden": false
                }
            },
            "outputs": [],
            "source": [
                "file_name='https://s3-api.us-geo.objectstorage.softlayer.net/cf-courses-data/CognitiveClass/DA0101EN/coursera/project/kc_house_data_NaN.csv'\n",
                "df=pd.read_csv(file_name)"
            ]
        },
        {
            "cell_type": "markdown",
            "metadata": {},
            "source": [
                "\n",
                "We use the method <code>head</code> to display the first 5 columns of the dataframe."
            ]
        },
        {
            "cell_type": "code",
            "execution_count": null,
            "metadata": {},
            "outputs": [
                {
                    "data": {
                        "text/html": [
                            "<div>\n",
                            "<style scoped>\n",
                            "    .dataframe tbody tr th:only-of-type {\n",
                            "        vertical-align: middle;\n",
                            "    }\n",
                            "\n",
                            "    .dataframe tbody tr th {\n",
                            "        vertical-align: top;\n",
                            "    }\n",
                            "\n",
                            "    .dataframe thead th {\n",
                            "        text-align: right;\n",
                            "    }\n",
                            "</style>\n",
                            "<table border=\"1\" class=\"dataframe\">\n",
                            "  <thead>\n",
                            "    <tr style=\"text-align: right;\">\n",
                            "      <th></th>\n",
                            "      <th>Unnamed: 0</th>\n",
                            "      <th>id</th>\n",
                            "      <th>date</th>\n",
                            "      <th>price</th>\n",
                            "      <th>bedrooms</th>\n",
                            "      <th>bathrooms</th>\n",
                            "      <th>sqft_living</th>\n",
                            "      <th>sqft_lot</th>\n",
                            "      <th>floors</th>\n",
                            "      <th>waterfront</th>\n",
                            "      <th>...</th>\n",
                            "      <th>grade</th>\n",
                            "      <th>sqft_above</th>\n",
                            "      <th>sqft_basement</th>\n",
                            "      <th>yr_built</th>\n",
                            "      <th>yr_renovated</th>\n",
                            "      <th>zipcode</th>\n",
                            "      <th>lat</th>\n",
                            "      <th>long</th>\n",
                            "      <th>sqft_living15</th>\n",
                            "      <th>sqft_lot15</th>\n",
                            "    </tr>\n",
                            "  </thead>\n",
                            "  <tbody>\n",
                            "    <tr>\n",
                            "      <th>0</th>\n",
                            "      <td>0</td>\n",
                            "      <td>7129300520</td>\n",
                            "      <td>20141013T000000</td>\n",
                            "      <td>221900.0</td>\n",
                            "      <td>3.0</td>\n",
                            "      <td>1.00</td>\n",
                            "      <td>1180</td>\n",
                            "      <td>5650</td>\n",
                            "      <td>1.0</td>\n",
                            "      <td>0</td>\n",
                            "      <td>...</td>\n",
                            "      <td>7</td>\n",
                            "      <td>1180</td>\n",
                            "      <td>0</td>\n",
                            "      <td>1955</td>\n",
                            "      <td>0</td>\n",
                            "      <td>98178</td>\n",
                            "      <td>47.5112</td>\n",
                            "      <td>-122.257</td>\n",
                            "      <td>1340</td>\n",
                            "      <td>5650</td>\n",
                            "    </tr>\n",
                            "    <tr>\n",
                            "      <th>1</th>\n",
                            "      <td>1</td>\n",
                            "      <td>6414100192</td>\n",
                            "      <td>20141209T000000</td>\n",
                            "      <td>538000.0</td>\n",
                            "      <td>3.0</td>\n",
                            "      <td>2.25</td>\n",
                            "      <td>2570</td>\n",
                            "      <td>7242</td>\n",
                            "      <td>2.0</td>\n",
                            "      <td>0</td>\n",
                            "      <td>...</td>\n",
                            "      <td>7</td>\n",
                            "      <td>2170</td>\n",
                            "      <td>400</td>\n",
                            "      <td>1951</td>\n",
                            "      <td>1991</td>\n",
                            "      <td>98125</td>\n",
                            "      <td>47.7210</td>\n",
                            "      <td>-122.319</td>\n",
                            "      <td>1690</td>\n",
                            "      <td>7639</td>\n",
                            "    </tr>\n",
                            "    <tr>\n",
                            "      <th>2</th>\n",
                            "      <td>2</td>\n",
                            "      <td>5631500400</td>\n",
                            "      <td>20150225T000000</td>\n",
                            "      <td>180000.0</td>\n",
                            "      <td>2.0</td>\n",
                            "      <td>1.00</td>\n",
                            "      <td>770</td>\n",
                            "      <td>10000</td>\n",
                            "      <td>1.0</td>\n",
                            "      <td>0</td>\n",
                            "      <td>...</td>\n",
                            "      <td>6</td>\n",
                            "      <td>770</td>\n",
                            "      <td>0</td>\n",
                            "      <td>1933</td>\n",
                            "      <td>0</td>\n",
                            "      <td>98028</td>\n",
                            "      <td>47.7379</td>\n",
                            "      <td>-122.233</td>\n",
                            "      <td>2720</td>\n",
                            "      <td>8062</td>\n",
                            "    </tr>\n",
                            "    <tr>\n",
                            "      <th>3</th>\n",
                            "      <td>3</td>\n",
                            "      <td>2487200875</td>\n",
                            "      <td>20141209T000000</td>\n",
                            "      <td>604000.0</td>\n",
                            "      <td>4.0</td>\n",
                            "      <td>3.00</td>\n",
                            "      <td>1960</td>\n",
                            "      <td>5000</td>\n",
                            "      <td>1.0</td>\n",
                            "      <td>0</td>\n",
                            "      <td>...</td>\n",
                            "      <td>7</td>\n",
                            "      <td>1050</td>\n",
                            "      <td>910</td>\n",
                            "      <td>1965</td>\n",
                            "      <td>0</td>\n",
                            "      <td>98136</td>\n",
                            "      <td>47.5208</td>\n",
                            "      <td>-122.393</td>\n",
                            "      <td>1360</td>\n",
                            "      <td>5000</td>\n",
                            "    </tr>\n",
                            "    <tr>\n",
                            "      <th>4</th>\n",
                            "      <td>4</td>\n",
                            "      <td>1954400510</td>\n",
                            "      <td>20150218T000000</td>\n",
                            "      <td>510000.0</td>\n",
                            "      <td>3.0</td>\n",
                            "      <td>2.00</td>\n",
                            "      <td>1680</td>\n",
                            "      <td>8080</td>\n",
                            "      <td>1.0</td>\n",
                            "      <td>0</td>\n",
                            "      <td>...</td>\n",
                            "      <td>8</td>\n",
                            "      <td>1680</td>\n",
                            "      <td>0</td>\n",
                            "      <td>1987</td>\n",
                            "      <td>0</td>\n",
                            "      <td>98074</td>\n",
                            "      <td>47.6168</td>\n",
                            "      <td>-122.045</td>\n",
                            "      <td>1800</td>\n",
                            "      <td>7503</td>\n",
                            "    </tr>\n",
                            "  </tbody>\n",
                            "</table>\n",
                            "<p>5 rows × 22 columns</p>\n",
                            "</div>"
                        ],
                        "text/plain": [
                            "   Unnamed: 0          id             date     price  bedrooms  bathrooms  \\\n",
                            "0           0  7129300520  20141013T000000  221900.0       3.0       1.00   \n",
                            "1           1  6414100192  20141209T000000  538000.0       3.0       2.25   \n",
                            "2           2  5631500400  20150225T000000  180000.0       2.0       1.00   \n",
                            "3           3  2487200875  20141209T000000  604000.0       4.0       3.00   \n",
                            "4           4  1954400510  20150218T000000  510000.0       3.0       2.00   \n",
                            "\n",
                            "   sqft_living  sqft_lot  floors  waterfront  ...  grade  sqft_above  \\\n",
                            "0         1180      5650     1.0           0  ...      7        1180   \n",
                            "1         2570      7242     2.0           0  ...      7        2170   \n",
                            "2          770     10000     1.0           0  ...      6         770   \n",
                            "3         1960      5000     1.0           0  ...      7        1050   \n",
                            "4         1680      8080     1.0           0  ...      8        1680   \n",
                            "\n",
                            "   sqft_basement  yr_built  yr_renovated  zipcode      lat     long  \\\n",
                            "0              0      1955             0    98178  47.5112 -122.257   \n",
                            "1            400      1951          1991    98125  47.7210 -122.319   \n",
                            "2              0      1933             0    98028  47.7379 -122.233   \n",
                            "3            910      1965             0    98136  47.5208 -122.393   \n",
                            "4              0      1987             0    98074  47.6168 -122.045   \n",
                            "\n",
                            "   sqft_living15  sqft_lot15  \n",
                            "0           1340        5650  \n",
                            "1           1690        7639  \n",
                            "2           2720        8062  \n",
                            "3           1360        5000  \n",
                            "4           1800        7503  \n",
                            "\n",
                            "[5 rows x 22 columns]"
                        ]
                    },
                    "execution_count": 3,
                    "metadata": {},
                    "output_type": "execute_result"
                }
            ],
            "source": [
                "df.head()"
            ]
        },
        {
            "cell_type": "markdown",
            "metadata": {},
            "source": [
                "### Question 1 \n",
                "Display the data types of each column using the attribute dtype, then take a screenshot and submit it, include your code in the image. "
            ]
        },
        {
            "cell_type": "code",
            "execution_count": null,
            "metadata": {
                "jupyter": {
                    "outputs_hidden": false
                }
            },
            "outputs": [
                {
                    "data": {
                        "text/plain": [
                            "Unnamed: 0         int64\n",
                            "id                 int64\n",
                            "date              object\n",
                            "price            float64\n",
                            "bedrooms         float64\n",
                            "bathrooms        float64\n",
                            "sqft_living        int64\n",
                            "sqft_lot           int64\n",
                            "floors           float64\n",
                            "waterfront         int64\n",
                            "view               int64\n",
                            "condition          int64\n",
                            "grade              int64\n",
                            "sqft_above         int64\n",
                            "sqft_basement      int64\n",
                            "yr_built           int64\n",
                            "yr_renovated       int64\n",
                            "zipcode            int64\n",
                            "lat              float64\n",
                            "long             float64\n",
                            "sqft_living15      int64\n",
                            "sqft_lot15         int64\n",
                            "dtype: object"
                        ]
                    },
                    "execution_count": 4,
                    "metadata": {},
                    "output_type": "execute_result"
                }
            ],
            "source": [
                "df.dtypes"
            ]
        },
        {
            "cell_type": "markdown",
            "metadata": {},
            "source": [
                "We use the method describe to obtain a statistical summary of the dataframe."
            ]
        },
        {
            "cell_type": "code",
            "execution_count": null,
            "metadata": {
                "jupyter": {
                    "outputs_hidden": false
                },
                "scrolled": false
            },
            "outputs": [
                {
                    "data": {
                        "text/html": [
                            "<div>\n",
                            "<style scoped>\n",
                            "    .dataframe tbody tr th:only-of-type {\n",
                            "        vertical-align: middle;\n",
                            "    }\n",
                            "\n",
                            "    .dataframe tbody tr th {\n",
                            "        vertical-align: top;\n",
                            "    }\n",
                            "\n",
                            "    .dataframe thead th {\n",
                            "        text-align: right;\n",
                            "    }\n",
                            "</style>\n",
                            "<table border=\"1\" class=\"dataframe\">\n",
                            "  <thead>\n",
                            "    <tr style=\"text-align: right;\">\n",
                            "      <th></th>\n",
                            "      <th>Unnamed: 0</th>\n",
                            "      <th>id</th>\n",
                            "      <th>price</th>\n",
                            "      <th>bedrooms</th>\n",
                            "      <th>bathrooms</th>\n",
                            "      <th>sqft_living</th>\n",
                            "      <th>sqft_lot</th>\n",
                            "      <th>floors</th>\n",
                            "      <th>waterfront</th>\n",
                            "      <th>view</th>\n",
                            "      <th>...</th>\n",
                            "      <th>grade</th>\n",
                            "      <th>sqft_above</th>\n",
                            "      <th>sqft_basement</th>\n",
                            "      <th>yr_built</th>\n",
                            "      <th>yr_renovated</th>\n",
                            "      <th>zipcode</th>\n",
                            "      <th>lat</th>\n",
                            "      <th>long</th>\n",
                            "      <th>sqft_living15</th>\n",
                            "      <th>sqft_lot15</th>\n",
                            "    </tr>\n",
                            "  </thead>\n",
                            "  <tbody>\n",
                            "    <tr>\n",
                            "      <th>count</th>\n",
                            "      <td>21613.00000</td>\n",
                            "      <td>2.161300e+04</td>\n",
                            "      <td>2.161300e+04</td>\n",
                            "      <td>21600.000000</td>\n",
                            "      <td>21603.000000</td>\n",
                            "      <td>21613.000000</td>\n",
                            "      <td>2.161300e+04</td>\n",
                            "      <td>21613.000000</td>\n",
                            "      <td>21613.000000</td>\n",
                            "      <td>21613.000000</td>\n",
                            "      <td>...</td>\n",
                            "      <td>21613.000000</td>\n",
                            "      <td>21613.000000</td>\n",
                            "      <td>21613.000000</td>\n",
                            "      <td>21613.000000</td>\n",
                            "      <td>21613.000000</td>\n",
                            "      <td>21613.000000</td>\n",
                            "      <td>21613.000000</td>\n",
                            "      <td>21613.000000</td>\n",
                            "      <td>21613.000000</td>\n",
                            "      <td>21613.000000</td>\n",
                            "    </tr>\n",
                            "    <tr>\n",
                            "      <th>mean</th>\n",
                            "      <td>10806.00000</td>\n",
                            "      <td>4.580302e+09</td>\n",
                            "      <td>5.400881e+05</td>\n",
                            "      <td>3.372870</td>\n",
                            "      <td>2.115736</td>\n",
                            "      <td>2079.899736</td>\n",
                            "      <td>1.510697e+04</td>\n",
                            "      <td>1.494309</td>\n",
                            "      <td>0.007542</td>\n",
                            "      <td>0.234303</td>\n",
                            "      <td>...</td>\n",
                            "      <td>7.656873</td>\n",
                            "      <td>1788.390691</td>\n",
                            "      <td>291.509045</td>\n",
                            "      <td>1971.005136</td>\n",
                            "      <td>84.402258</td>\n",
                            "      <td>98077.939805</td>\n",
                            "      <td>47.560053</td>\n",
                            "      <td>-122.213896</td>\n",
                            "      <td>1986.552492</td>\n",
                            "      <td>12768.455652</td>\n",
                            "    </tr>\n",
                            "    <tr>\n",
                            "      <th>std</th>\n",
                            "      <td>6239.28002</td>\n",
                            "      <td>2.876566e+09</td>\n",
                            "      <td>3.671272e+05</td>\n",
                            "      <td>0.926657</td>\n",
                            "      <td>0.768996</td>\n",
                            "      <td>918.440897</td>\n",
                            "      <td>4.142051e+04</td>\n",
                            "      <td>0.539989</td>\n",
                            "      <td>0.086517</td>\n",
                            "      <td>0.766318</td>\n",
                            "      <td>...</td>\n",
                            "      <td>1.175459</td>\n",
                            "      <td>828.090978</td>\n",
                            "      <td>442.575043</td>\n",
                            "      <td>29.373411</td>\n",
                            "      <td>401.679240</td>\n",
                            "      <td>53.505026</td>\n",
                            "      <td>0.138564</td>\n",
                            "      <td>0.140828</td>\n",
                            "      <td>685.391304</td>\n",
                            "      <td>27304.179631</td>\n",
                            "    </tr>\n",
                            "    <tr>\n",
                            "      <th>min</th>\n",
                            "      <td>0.00000</td>\n",
                            "      <td>1.000102e+06</td>\n",
                            "      <td>7.500000e+04</td>\n",
                            "      <td>1.000000</td>\n",
                            "      <td>0.500000</td>\n",
                            "      <td>290.000000</td>\n",
                            "      <td>5.200000e+02</td>\n",
                            "      <td>1.000000</td>\n",
                            "      <td>0.000000</td>\n",
                            "      <td>0.000000</td>\n",
                            "      <td>...</td>\n",
                            "      <td>1.000000</td>\n",
                            "      <td>290.000000</td>\n",
                            "      <td>0.000000</td>\n",
                            "      <td>1900.000000</td>\n",
                            "      <td>0.000000</td>\n",
                            "      <td>98001.000000</td>\n",
                            "      <td>47.155900</td>\n",
                            "      <td>-122.519000</td>\n",
                            "      <td>399.000000</td>\n",
                            "      <td>651.000000</td>\n",
                            "    </tr>\n",
                            "    <tr>\n",
                            "      <th>25%</th>\n",
                            "      <td>5403.00000</td>\n",
                            "      <td>2.123049e+09</td>\n",
                            "      <td>3.219500e+05</td>\n",
                            "      <td>3.000000</td>\n",
                            "      <td>1.750000</td>\n",
                            "      <td>1427.000000</td>\n",
                            "      <td>5.040000e+03</td>\n",
                            "      <td>1.000000</td>\n",
                            "      <td>0.000000</td>\n",
                            "      <td>0.000000</td>\n",
                            "      <td>...</td>\n",
                            "      <td>7.000000</td>\n",
                            "      <td>1190.000000</td>\n",
                            "      <td>0.000000</td>\n",
                            "      <td>1951.000000</td>\n",
                            "      <td>0.000000</td>\n",
                            "      <td>98033.000000</td>\n",
                            "      <td>47.471000</td>\n",
                            "      <td>-122.328000</td>\n",
                            "      <td>1490.000000</td>\n",
                            "      <td>5100.000000</td>\n",
                            "    </tr>\n",
                            "    <tr>\n",
                            "      <th>50%</th>\n",
                            "      <td>10806.00000</td>\n",
                            "      <td>3.904930e+09</td>\n",
                            "      <td>4.500000e+05</td>\n",
                            "      <td>3.000000</td>\n",
                            "      <td>2.250000</td>\n",
                            "      <td>1910.000000</td>\n",
                            "      <td>7.618000e+03</td>\n",
                            "      <td>1.500000</td>\n",
                            "      <td>0.000000</td>\n",
                            "      <td>0.000000</td>\n",
                            "      <td>...</td>\n",
                            "      <td>7.000000</td>\n",
                            "      <td>1560.000000</td>\n",
                            "      <td>0.000000</td>\n",
                            "      <td>1975.000000</td>\n",
                            "      <td>0.000000</td>\n",
                            "      <td>98065.000000</td>\n",
                            "      <td>47.571800</td>\n",
                            "      <td>-122.230000</td>\n",
                            "      <td>1840.000000</td>\n",
                            "      <td>7620.000000</td>\n",
                            "    </tr>\n",
                            "    <tr>\n",
                            "      <th>75%</th>\n",
                            "      <td>16209.00000</td>\n",
                            "      <td>7.308900e+09</td>\n",
                            "      <td>6.450000e+05</td>\n",
                            "      <td>4.000000</td>\n",
                            "      <td>2.500000</td>\n",
                            "      <td>2550.000000</td>\n",
                            "      <td>1.068800e+04</td>\n",
                            "      <td>2.000000</td>\n",
                            "      <td>0.000000</td>\n",
                            "      <td>0.000000</td>\n",
                            "      <td>...</td>\n",
                            "      <td>8.000000</td>\n",
                            "      <td>2210.000000</td>\n",
                            "      <td>560.000000</td>\n",
                            "      <td>1997.000000</td>\n",
                            "      <td>0.000000</td>\n",
                            "      <td>98118.000000</td>\n",
                            "      <td>47.678000</td>\n",
                            "      <td>-122.125000</td>\n",
                            "      <td>2360.000000</td>\n",
                            "      <td>10083.000000</td>\n",
                            "    </tr>\n",
                            "    <tr>\n",
                            "      <th>max</th>\n",
                            "      <td>21612.00000</td>\n",
                            "      <td>9.900000e+09</td>\n",
                            "      <td>7.700000e+06</td>\n",
                            "      <td>33.000000</td>\n",
                            "      <td>8.000000</td>\n",
                            "      <td>13540.000000</td>\n",
                            "      <td>1.651359e+06</td>\n",
                            "      <td>3.500000</td>\n",
                            "      <td>1.000000</td>\n",
                            "      <td>4.000000</td>\n",
                            "      <td>...</td>\n",
                            "      <td>13.000000</td>\n",
                            "      <td>9410.000000</td>\n",
                            "      <td>4820.000000</td>\n",
                            "      <td>2015.000000</td>\n",
                            "      <td>2015.000000</td>\n",
                            "      <td>98199.000000</td>\n",
                            "      <td>47.777600</td>\n",
                            "      <td>-121.315000</td>\n",
                            "      <td>6210.000000</td>\n",
                            "      <td>871200.000000</td>\n",
                            "    </tr>\n",
                            "  </tbody>\n",
                            "</table>\n",
                            "<p>8 rows × 21 columns</p>\n",
                            "</div>"
                        ],
                        "text/plain": [
                            "        Unnamed: 0            id         price      bedrooms     bathrooms  \\\n",
                            "count  21613.00000  2.161300e+04  2.161300e+04  21600.000000  21603.000000   \n",
                            "mean   10806.00000  4.580302e+09  5.400881e+05      3.372870      2.115736   \n",
                            "std     6239.28002  2.876566e+09  3.671272e+05      0.926657      0.768996   \n",
                            "min        0.00000  1.000102e+06  7.500000e+04      1.000000      0.500000   \n",
                            "25%     5403.00000  2.123049e+09  3.219500e+05      3.000000      1.750000   \n",
                            "50%    10806.00000  3.904930e+09  4.500000e+05      3.000000      2.250000   \n",
                            "75%    16209.00000  7.308900e+09  6.450000e+05      4.000000      2.500000   \n",
                            "max    21612.00000  9.900000e+09  7.700000e+06     33.000000      8.000000   \n",
                            "\n",
                            "        sqft_living      sqft_lot        floors    waterfront          view  \\\n",
                            "count  21613.000000  2.161300e+04  21613.000000  21613.000000  21613.000000   \n",
                            "mean    2079.899736  1.510697e+04      1.494309      0.007542      0.234303   \n",
                            "std      918.440897  4.142051e+04      0.539989      0.086517      0.766318   \n",
                            "min      290.000000  5.200000e+02      1.000000      0.000000      0.000000   \n",
                            "25%     1427.000000  5.040000e+03      1.000000      0.000000      0.000000   \n",
                            "50%     1910.000000  7.618000e+03      1.500000      0.000000      0.000000   \n",
                            "75%     2550.000000  1.068800e+04      2.000000      0.000000      0.000000   \n",
                            "max    13540.000000  1.651359e+06      3.500000      1.000000      4.000000   \n",
                            "\n",
                            "       ...         grade    sqft_above  sqft_basement      yr_built  \\\n",
                            "count  ...  21613.000000  21613.000000   21613.000000  21613.000000   \n",
                            "mean   ...      7.656873   1788.390691     291.509045   1971.005136   \n",
                            "std    ...      1.175459    828.090978     442.575043     29.373411   \n",
                            "min    ...      1.000000    290.000000       0.000000   1900.000000   \n",
                            "25%    ...      7.000000   1190.000000       0.000000   1951.000000   \n",
                            "50%    ...      7.000000   1560.000000       0.000000   1975.000000   \n",
                            "75%    ...      8.000000   2210.000000     560.000000   1997.000000   \n",
                            "max    ...     13.000000   9410.000000    4820.000000   2015.000000   \n",
                            "\n",
                            "       yr_renovated       zipcode           lat          long  sqft_living15  \\\n",
                            "count  21613.000000  21613.000000  21613.000000  21613.000000   21613.000000   \n",
                            "mean      84.402258  98077.939805     47.560053   -122.213896    1986.552492   \n",
                            "std      401.679240     53.505026      0.138564      0.140828     685.391304   \n",
                            "min        0.000000  98001.000000     47.155900   -122.519000     399.000000   \n",
                            "25%        0.000000  98033.000000     47.471000   -122.328000    1490.000000   \n",
                            "50%        0.000000  98065.000000     47.571800   -122.230000    1840.000000   \n",
                            "75%        0.000000  98118.000000     47.678000   -122.125000    2360.000000   \n",
                            "max     2015.000000  98199.000000     47.777600   -121.315000    6210.000000   \n",
                            "\n",
                            "          sqft_lot15  \n",
                            "count   21613.000000  \n",
                            "mean    12768.455652  \n",
                            "std     27304.179631  \n",
                            "min       651.000000  \n",
                            "25%      5100.000000  \n",
                            "50%      7620.000000  \n",
                            "75%     10083.000000  \n",
                            "max    871200.000000  \n",
                            "\n",
                            "[8 rows x 21 columns]"
                        ]
                    },
                    "execution_count": 5,
                    "metadata": {},
                    "output_type": "execute_result"
                }
            ],
            "source": [
                "df.describe()"
            ]
        },
        {
            "cell_type": "code",
            "execution_count": null,
            "metadata": {},
            "outputs": [],
            "source": [
                "df.info()"
            ]
        },
        {
            "cell_type": "markdown",
            "metadata": {},
            "source": [
                "# Module 2: Data Wrangling"
            ]
        },
        {
            "cell_type": "markdown",
            "metadata": {},
            "source": [
                "### Question 2 \n",
                "Drop the columns <code>\"id\"</code>  and <code>\"Unnamed: 0\"</code> from axis 1 using the method <code>drop()</code>, then use the method <code>describe()</code> to obtain a statistical summary of the data. Take a screenshot and submit it, make sure the <code>inplace</code> parameter is set to <code>True</code>"
            ]
        },
        {
            "cell_type": "code",
            "execution_count": null,
            "metadata": {
                "jupyter": {
                    "outputs_hidden": false
                }
            },
            "outputs": [
                {
                    "data": {
                        "text/html": [
                            "<div>\n",
                            "<style scoped>\n",
                            "    .dataframe tbody tr th:only-of-type {\n",
                            "        vertical-align: middle;\n",
                            "    }\n",
                            "\n",
                            "    .dataframe tbody tr th {\n",
                            "        vertical-align: top;\n",
                            "    }\n",
                            "\n",
                            "    .dataframe thead th {\n",
                            "        text-align: right;\n",
                            "    }\n",
                            "</style>\n",
                            "<table border=\"1\" class=\"dataframe\">\n",
                            "  <thead>\n",
                            "    <tr style=\"text-align: right;\">\n",
                            "      <th></th>\n",
                            "      <th>price</th>\n",
                            "      <th>bedrooms</th>\n",
                            "      <th>bathrooms</th>\n",
                            "      <th>sqft_living</th>\n",
                            "      <th>sqft_lot</th>\n",
                            "      <th>floors</th>\n",
                            "      <th>waterfront</th>\n",
                            "      <th>view</th>\n",
                            "      <th>condition</th>\n",
                            "      <th>grade</th>\n",
                            "      <th>sqft_above</th>\n",
                            "      <th>sqft_basement</th>\n",
                            "      <th>yr_built</th>\n",
                            "      <th>yr_renovated</th>\n",
                            "      <th>zipcode</th>\n",
                            "      <th>lat</th>\n",
                            "      <th>long</th>\n",
                            "      <th>sqft_living15</th>\n",
                            "      <th>sqft_lot15</th>\n",
                            "    </tr>\n",
                            "  </thead>\n",
                            "  <tbody>\n",
                            "    <tr>\n",
                            "      <th>count</th>\n",
                            "      <td>2.161300e+04</td>\n",
                            "      <td>21600.000000</td>\n",
                            "      <td>21603.000000</td>\n",
                            "      <td>21613.000000</td>\n",
                            "      <td>2.161300e+04</td>\n",
                            "      <td>21613.000000</td>\n",
                            "      <td>21613.000000</td>\n",
                            "      <td>21613.000000</td>\n",
                            "      <td>21613.000000</td>\n",
                            "      <td>21613.000000</td>\n",
                            "      <td>21613.000000</td>\n",
                            "      <td>21613.000000</td>\n",
                            "      <td>21613.000000</td>\n",
                            "      <td>21613.000000</td>\n",
                            "      <td>21613.000000</td>\n",
                            "      <td>21613.000000</td>\n",
                            "      <td>21613.000000</td>\n",
                            "      <td>21613.000000</td>\n",
                            "      <td>21613.000000</td>\n",
                            "    </tr>\n",
                            "    <tr>\n",
                            "      <th>mean</th>\n",
                            "      <td>5.400881e+05</td>\n",
                            "      <td>3.372870</td>\n",
                            "      <td>2.115736</td>\n",
                            "      <td>2079.899736</td>\n",
                            "      <td>1.510697e+04</td>\n",
                            "      <td>1.494309</td>\n",
                            "      <td>0.007542</td>\n",
                            "      <td>0.234303</td>\n",
                            "      <td>3.409430</td>\n",
                            "      <td>7.656873</td>\n",
                            "      <td>1788.390691</td>\n",
                            "      <td>291.509045</td>\n",
                            "      <td>1971.005136</td>\n",
                            "      <td>84.402258</td>\n",
                            "      <td>98077.939805</td>\n",
                            "      <td>47.560053</td>\n",
                            "      <td>-122.213896</td>\n",
                            "      <td>1986.552492</td>\n",
                            "      <td>12768.455652</td>\n",
                            "    </tr>\n",
                            "    <tr>\n",
                            "      <th>std</th>\n",
                            "      <td>3.671272e+05</td>\n",
                            "      <td>0.926657</td>\n",
                            "      <td>0.768996</td>\n",
                            "      <td>918.440897</td>\n",
                            "      <td>4.142051e+04</td>\n",
                            "      <td>0.539989</td>\n",
                            "      <td>0.086517</td>\n",
                            "      <td>0.766318</td>\n",
                            "      <td>0.650743</td>\n",
                            "      <td>1.175459</td>\n",
                            "      <td>828.090978</td>\n",
                            "      <td>442.575043</td>\n",
                            "      <td>29.373411</td>\n",
                            "      <td>401.679240</td>\n",
                            "      <td>53.505026</td>\n",
                            "      <td>0.138564</td>\n",
                            "      <td>0.140828</td>\n",
                            "      <td>685.391304</td>\n",
                            "      <td>27304.179631</td>\n",
                            "    </tr>\n",
                            "    <tr>\n",
                            "      <th>min</th>\n",
                            "      <td>7.500000e+04</td>\n",
                            "      <td>1.000000</td>\n",
                            "      <td>0.500000</td>\n",
                            "      <td>290.000000</td>\n",
                            "      <td>5.200000e+02</td>\n",
                            "      <td>1.000000</td>\n",
                            "      <td>0.000000</td>\n",
                            "      <td>0.000000</td>\n",
                            "      <td>1.000000</td>\n",
                            "      <td>1.000000</td>\n",
                            "      <td>290.000000</td>\n",
                            "      <td>0.000000</td>\n",
                            "      <td>1900.000000</td>\n",
                            "      <td>0.000000</td>\n",
                            "      <td>98001.000000</td>\n",
                            "      <td>47.155900</td>\n",
                            "      <td>-122.519000</td>\n",
                            "      <td>399.000000</td>\n",
                            "      <td>651.000000</td>\n",
                            "    </tr>\n",
                            "    <tr>\n",
                            "      <th>25%</th>\n",
                            "      <td>3.219500e+05</td>\n",
                            "      <td>3.000000</td>\n",
                            "      <td>1.750000</td>\n",
                            "      <td>1427.000000</td>\n",
                            "      <td>5.040000e+03</td>\n",
                            "      <td>1.000000</td>\n",
                            "      <td>0.000000</td>\n",
                            "      <td>0.000000</td>\n",
                            "      <td>3.000000</td>\n",
                            "      <td>7.000000</td>\n",
                            "      <td>1190.000000</td>\n",
                            "      <td>0.000000</td>\n",
                            "      <td>1951.000000</td>\n",
                            "      <td>0.000000</td>\n",
                            "      <td>98033.000000</td>\n",
                            "      <td>47.471000</td>\n",
                            "      <td>-122.328000</td>\n",
                            "      <td>1490.000000</td>\n",
                            "      <td>5100.000000</td>\n",
                            "    </tr>\n",
                            "    <tr>\n",
                            "      <th>50%</th>\n",
                            "      <td>4.500000e+05</td>\n",
                            "      <td>3.000000</td>\n",
                            "      <td>2.250000</td>\n",
                            "      <td>1910.000000</td>\n",
                            "      <td>7.618000e+03</td>\n",
                            "      <td>1.500000</td>\n",
                            "      <td>0.000000</td>\n",
                            "      <td>0.000000</td>\n",
                            "      <td>3.000000</td>\n",
                            "      <td>7.000000</td>\n",
                            "      <td>1560.000000</td>\n",
                            "      <td>0.000000</td>\n",
                            "      <td>1975.000000</td>\n",
                            "      <td>0.000000</td>\n",
                            "      <td>98065.000000</td>\n",
                            "      <td>47.571800</td>\n",
                            "      <td>-122.230000</td>\n",
                            "      <td>1840.000000</td>\n",
                            "      <td>7620.000000</td>\n",
                            "    </tr>\n",
                            "    <tr>\n",
                            "      <th>75%</th>\n",
                            "      <td>6.450000e+05</td>\n",
                            "      <td>4.000000</td>\n",
                            "      <td>2.500000</td>\n",
                            "      <td>2550.000000</td>\n",
                            "      <td>1.068800e+04</td>\n",
                            "      <td>2.000000</td>\n",
                            "      <td>0.000000</td>\n",
                            "      <td>0.000000</td>\n",
                            "      <td>4.000000</td>\n",
                            "      <td>8.000000</td>\n",
                            "      <td>2210.000000</td>\n",
                            "      <td>560.000000</td>\n",
                            "      <td>1997.000000</td>\n",
                            "      <td>0.000000</td>\n",
                            "      <td>98118.000000</td>\n",
                            "      <td>47.678000</td>\n",
                            "      <td>-122.125000</td>\n",
                            "      <td>2360.000000</td>\n",
                            "      <td>10083.000000</td>\n",
                            "    </tr>\n",
                            "    <tr>\n",
                            "      <th>max</th>\n",
                            "      <td>7.700000e+06</td>\n",
                            "      <td>33.000000</td>\n",
                            "      <td>8.000000</td>\n",
                            "      <td>13540.000000</td>\n",
                            "      <td>1.651359e+06</td>\n",
                            "      <td>3.500000</td>\n",
                            "      <td>1.000000</td>\n",
                            "      <td>4.000000</td>\n",
                            "      <td>5.000000</td>\n",
                            "      <td>13.000000</td>\n",
                            "      <td>9410.000000</td>\n",
                            "      <td>4820.000000</td>\n",
                            "      <td>2015.000000</td>\n",
                            "      <td>2015.000000</td>\n",
                            "      <td>98199.000000</td>\n",
                            "      <td>47.777600</td>\n",
                            "      <td>-121.315000</td>\n",
                            "      <td>6210.000000</td>\n",
                            "      <td>871200.000000</td>\n",
                            "    </tr>\n",
                            "  </tbody>\n",
                            "</table>\n",
                            "</div>"
                        ],
                        "text/plain": [
                            "              price      bedrooms     bathrooms   sqft_living      sqft_lot  \\\n",
                            "count  2.161300e+04  21600.000000  21603.000000  21613.000000  2.161300e+04   \n",
                            "mean   5.400881e+05      3.372870      2.115736   2079.899736  1.510697e+04   \n",
                            "std    3.671272e+05      0.926657      0.768996    918.440897  4.142051e+04   \n",
                            "min    7.500000e+04      1.000000      0.500000    290.000000  5.200000e+02   \n",
                            "25%    3.219500e+05      3.000000      1.750000   1427.000000  5.040000e+03   \n",
                            "50%    4.500000e+05      3.000000      2.250000   1910.000000  7.618000e+03   \n",
                            "75%    6.450000e+05      4.000000      2.500000   2550.000000  1.068800e+04   \n",
                            "max    7.700000e+06     33.000000      8.000000  13540.000000  1.651359e+06   \n",
                            "\n",
                            "             floors    waterfront          view     condition         grade  \\\n",
                            "count  21613.000000  21613.000000  21613.000000  21613.000000  21613.000000   \n",
                            "mean       1.494309      0.007542      0.234303      3.409430      7.656873   \n",
                            "std        0.539989      0.086517      0.766318      0.650743      1.175459   \n",
                            "min        1.000000      0.000000      0.000000      1.000000      1.000000   \n",
                            "25%        1.000000      0.000000      0.000000      3.000000      7.000000   \n",
                            "50%        1.500000      0.000000      0.000000      3.000000      7.000000   \n",
                            "75%        2.000000      0.000000      0.000000      4.000000      8.000000   \n",
                            "max        3.500000      1.000000      4.000000      5.000000     13.000000   \n",
                            "\n",
                            "         sqft_above  sqft_basement      yr_built  yr_renovated       zipcode  \\\n",
                            "count  21613.000000   21613.000000  21613.000000  21613.000000  21613.000000   \n",
                            "mean    1788.390691     291.509045   1971.005136     84.402258  98077.939805   \n",
                            "std      828.090978     442.575043     29.373411    401.679240     53.505026   \n",
                            "min      290.000000       0.000000   1900.000000      0.000000  98001.000000   \n",
                            "25%     1190.000000       0.000000   1951.000000      0.000000  98033.000000   \n",
                            "50%     1560.000000       0.000000   1975.000000      0.000000  98065.000000   \n",
                            "75%     2210.000000     560.000000   1997.000000      0.000000  98118.000000   \n",
                            "max     9410.000000    4820.000000   2015.000000   2015.000000  98199.000000   \n",
                            "\n",
                            "                lat          long  sqft_living15     sqft_lot15  \n",
                            "count  21613.000000  21613.000000   21613.000000   21613.000000  \n",
                            "mean      47.560053   -122.213896    1986.552492   12768.455652  \n",
                            "std        0.138564      0.140828     685.391304   27304.179631  \n",
                            "min       47.155900   -122.519000     399.000000     651.000000  \n",
                            "25%       47.471000   -122.328000    1490.000000    5100.000000  \n",
                            "50%       47.571800   -122.230000    1840.000000    7620.000000  \n",
                            "75%       47.678000   -122.125000    2360.000000   10083.000000  \n",
                            "max       47.777600   -121.315000    6210.000000  871200.000000  "
                        ]
                    },
                    "execution_count": 10,
                    "metadata": {},
                    "output_type": "execute_result"
                }
            ],
            "source": [
                "df.drop(['id','Unnamed: 0'],axis=1, inplace=True)\n",
                "df.describe()"
            ]
        },
        {
            "cell_type": "markdown",
            "metadata": {},
            "source": [
                "We can see we have missing values for the columns <code> bedrooms</code>  and <code> bathrooms </code>"
            ]
        },
        {
            "cell_type": "code",
            "execution_count": null,
            "metadata": {},
            "outputs": [
                {
                    "data": {
                        "text/plain": [
                            "(21613, 20)"
                        ]
                    },
                    "execution_count": 15,
                    "metadata": {},
                    "output_type": "execute_result"
                }
            ],
            "source": [
                "df.shape"
            ]
        },
        {
            "cell_type": "code",
            "execution_count": null,
            "metadata": {
                "jupyter": {
                    "outputs_hidden": false
                }
            },
            "outputs": [
                {
                    "name": "stdout",
                    "output_type": "stream",
                    "text": [
                        "number of NaN values for the column bedrooms : 13\n",
                        "number of NaN values for the column bathrooms : 10\n"
                    ]
                }
            ],
            "source": [
                "print(\"number of NaN values for the column bedrooms :\", df['bedrooms'].isnull().sum())\n",
                "print(\"number of NaN values for the column bathrooms :\", df['bathrooms'].isnull().sum())\n"
            ]
        },
        {
            "cell_type": "markdown",
            "metadata": {},
            "source": [
                "\n",
                "We can replace the missing values of the column <code>'bedrooms'</code> with the mean of the column  <code>'bedrooms' </code> using the method <code>replace()</code>. Don't forget to set the <code>inplace</code> parameter to <code>True</code>"
            ]
        },
        {
            "cell_type": "code",
            "execution_count": null,
            "metadata": {},
            "outputs": [],
            "source": [
                "mean=df['bedrooms'].mean()\n",
                "df['bedrooms'].replace(np.nan,mean, inplace=True)"
            ]
        },
        {
            "cell_type": "markdown",
            "metadata": {},
            "source": [
                "\n",
                "We also replace the missing values of the column <code>'bathrooms'</code> with the mean of the column  <code>'bathrooms' </code> using the method <code>replace()</code>. Don't forget to set the <code> inplace </code>  parameter top <code> True </code>"
            ]
        },
        {
            "cell_type": "code",
            "execution_count": null,
            "metadata": {},
            "outputs": [],
            "source": [
                "mean=df['bathrooms'].mean()\n",
                "df['bathrooms'].replace(np.nan,mean, inplace=True)"
            ]
        },
        {
            "cell_type": "code",
            "execution_count": null,
            "metadata": {
                "jupyter": {
                    "outputs_hidden": false
                }
            },
            "outputs": [
                {
                    "name": "stdout",
                    "output_type": "stream",
                    "text": [
                        "number of NaN values for the column bedrooms : 0\n",
                        "number of NaN values for the column bathrooms : 0\n"
                    ]
                }
            ],
            "source": [
                "print(\"number of NaN values for the column bedrooms :\", df['bedrooms'].isnull().sum())\n",
                "print(\"number of NaN values for the column bathrooms :\", df['bathrooms'].isnull().sum())"
            ]
        },
        {
            "cell_type": "markdown",
            "metadata": {},
            "source": [
                "# Module 3: Exploratory Data Analysis"
            ]
        },
        {
            "cell_type": "markdown",
            "metadata": {},
            "source": [
                "### Question 3\n",
                "Use the method <code>value_counts</code> to count the number of houses with unique floor values, use the method <code>.to_frame()</code> to convert it to a dataframe.\n"
            ]
        },
        {
            "cell_type": "code",
            "execution_count": null,
            "metadata": {
                "jupyter": {
                    "outputs_hidden": false
                }
            },
            "outputs": [
                {
                    "data": {
                        "text/html": [
                            "<div>\n",
                            "<style scoped>\n",
                            "    .dataframe tbody tr th:only-of-type {\n",
                            "        vertical-align: middle;\n",
                            "    }\n",
                            "\n",
                            "    .dataframe tbody tr th {\n",
                            "        vertical-align: top;\n",
                            "    }\n",
                            "\n",
                            "    .dataframe thead th {\n",
                            "        text-align: right;\n",
                            "    }\n",
                            "</style>\n",
                            "<table border=\"1\" class=\"dataframe\">\n",
                            "  <thead>\n",
                            "    <tr style=\"text-align: right;\">\n",
                            "      <th></th>\n",
                            "      <th>floors</th>\n",
                            "    </tr>\n",
                            "  </thead>\n",
                            "  <tbody>\n",
                            "    <tr>\n",
                            "      <th>1.0</th>\n",
                            "      <td>10680</td>\n",
                            "    </tr>\n",
                            "    <tr>\n",
                            "      <th>2.0</th>\n",
                            "      <td>8241</td>\n",
                            "    </tr>\n",
                            "    <tr>\n",
                            "      <th>1.5</th>\n",
                            "      <td>1910</td>\n",
                            "    </tr>\n",
                            "    <tr>\n",
                            "      <th>3.0</th>\n",
                            "      <td>613</td>\n",
                            "    </tr>\n",
                            "    <tr>\n",
                            "      <th>2.5</th>\n",
                            "      <td>161</td>\n",
                            "    </tr>\n",
                            "    <tr>\n",
                            "      <th>3.5</th>\n",
                            "      <td>8</td>\n",
                            "    </tr>\n",
                            "  </tbody>\n",
                            "</table>\n",
                            "</div>"
                        ],
                        "text/plain": [
                            "     floors\n",
                            "1.0   10680\n",
                            "2.0    8241\n",
                            "1.5    1910\n",
                            "3.0     613\n",
                            "2.5     161\n",
                            "3.5       8"
                        ]
                    },
                    "execution_count": 21,
                    "metadata": {},
                    "output_type": "execute_result"
                }
            ],
            "source": [
                "df['floors'].value_counts().to_frame()"
            ]
        },
        {
            "cell_type": "code",
            "execution_count": null,
            "metadata": {},
            "outputs": [
                {
                    "data": {
                        "text/html": [
                            "<div>\n",
                            "<style scoped>\n",
                            "    .dataframe tbody tr th:only-of-type {\n",
                            "        vertical-align: middle;\n",
                            "    }\n",
                            "\n",
                            "    .dataframe tbody tr th {\n",
                            "        vertical-align: top;\n",
                            "    }\n",
                            "\n",
                            "    .dataframe thead th {\n",
                            "        text-align: right;\n",
                            "    }\n",
                            "</style>\n",
                            "<table border=\"1\" class=\"dataframe\">\n",
                            "  <thead>\n",
                            "    <tr style=\"text-align: right;\">\n",
                            "      <th></th>\n",
                            "      <th>waterfront</th>\n",
                            "    </tr>\n",
                            "  </thead>\n",
                            "  <tbody>\n",
                            "    <tr>\n",
                            "      <th>0</th>\n",
                            "      <td>21450</td>\n",
                            "    </tr>\n",
                            "    <tr>\n",
                            "      <th>1</th>\n",
                            "      <td>163</td>\n",
                            "    </tr>\n",
                            "  </tbody>\n",
                            "</table>\n",
                            "</div>"
                        ],
                        "text/plain": [
                            "   waterfront\n",
                            "0       21450\n",
                            "1         163"
                        ]
                    },
                    "execution_count": 25,
                    "metadata": {},
                    "output_type": "execute_result"
                }
            ],
            "source": [
                "df['waterfront'].value_counts().to_frame()"
            ]
        },
        {
            "cell_type": "markdown",
            "metadata": {},
            "source": [
                "### Question 4\n",
                "Use the function <code>boxplot</code> in the seaborn library  to  determine whether houses with a waterfront view or without a waterfront view have more price outliers."
            ]
        },
        {
            "cell_type": "code",
            "execution_count": null,
            "metadata": {
                "jupyter": {
                    "outputs_hidden": false
                }
            },
            "outputs": [
                {
                    "data": {
                        "text/plain": [
                            "<matplotlib.axes._subplots.AxesSubplot at 0x7fb143d5dba8>"
                        ]
                    },
                    "execution_count": 33,
                    "metadata": {},
                    "output_type": "execute_result"
                },
                {
                    "data": {
                        "image/png": "[encoded data removed]",
                        "text/plain": [
                            "<Figure size 432x288 with 1 Axes>"
                        ]
                    },
                    "metadata": {},
                    "output_type": "display_data"
                }
            ],
            "source": [
                "sns.set(style=\"whitegrid\")\n",
                "sns.boxplot(x=df['waterfront'],y=df['price'])"
            ]
        },
        {
            "cell_type": "markdown",
            "metadata": {},
            "source": [
                "### Question 5\n",
                "Use the function <code>regplot</code>  in the seaborn library  to  determine if the feature <code>sqft_above</code> is negatively or positively correlated with price."
            ]
        },
        {
            "cell_type": "code",
            "execution_count": null,
            "metadata": {
                "jupyter": {
                    "outputs_hidden": false
                }
            },
            "outputs": [
                {
                    "data": {
                        "text/plain": [
                            "<matplotlib.axes._subplots.AxesSubplot at 0x7fb143d426d8>"
                        ]
                    },
                    "execution_count": 34,
                    "metadata": {},
                    "output_type": "execute_result"
                },
                {
                    "data": {
                        "image/png": "[encoded data removed]",
                        "text/plain": [
                            "<Figure size 432x288 with 1 Axes>"
                        ]
                    },
                    "metadata": {},
                    "output_type": "display_data"
                }
            ],
            "source": [
                "sns.regplot(x=df['sqft_above'],y=df['price'],data=df)"
            ]
        },
        {
            "cell_type": "markdown",
            "metadata": {},
            "source": [
                "\n",
                "We can use the Pandas method <code>corr()</code>  to find the feature other than price that is most correlated with price."
            ]
        },
        {
            "cell_type": "code",
            "execution_count": null,
            "metadata": {
                "jupyter": {
                    "outputs_hidden": false
                }
            },
            "outputs": [
                {
                    "data": {
                        "text/plain": [
                            "zipcode         -0.053203\n",
                            "long             0.021626\n",
                            "condition        0.036362\n",
                            "yr_built         0.054012\n",
                            "sqft_lot15       0.082447\n",
                            "sqft_lot         0.089661\n",
                            "yr_renovated     0.126434\n",
                            "floors           0.256794\n",
                            "waterfront       0.266369\n",
                            "lat              0.307003\n",
                            "bedrooms         0.308797\n",
                            "sqft_basement    0.323816\n",
                            "view             0.397293\n",
                            "bathrooms        0.525738\n",
                            "sqft_living15    0.585379\n",
                            "sqft_above       0.605567\n",
                            "grade            0.667434\n",
                            "sqft_living      0.702035\n",
                            "price            1.000000\n",
                            "Name: price, dtype: float64"
                        ]
                    },
                    "execution_count": 35,
                    "metadata": {},
                    "output_type": "execute_result"
                }
            ],
            "source": [
                "df.corr()['price'].sort_values()"
            ]
        },
        {
            "cell_type": "markdown",
            "metadata": {},
            "source": [
                "# Module 4: Model Development"
            ]
        },
        {
            "cell_type": "markdown",
            "metadata": {},
            "source": [
                "\n",
                "We can Fit a linear regression model using the  longitude feature <code>'long'</code> and  caculate the R^2."
            ]
        },
        {
            "cell_type": "code",
            "execution_count": null,
            "metadata": {
                "jupyter": {
                    "outputs_hidden": false
                }
            },
            "outputs": [
                {
                    "data": {
                        "text/plain": [
                            "0.00046769430149007363"
                        ]
                    },
                    "execution_count": 36,
                    "metadata": {},
                    "output_type": "execute_result"
                }
            ],
            "source": [
                "X = df[['long']]\n",
                "Y = df['price']\n",
                "lm = LinearRegression()\n",
                "lm.fit(X,Y)\n",
                "lm.score(X, Y)"
            ]
        },
        {
            "cell_type": "markdown",
            "metadata": {},
            "source": [
                "### Question  6\n",
                "Fit a linear regression model to predict the <code>'price'</code> using the feature <code>'sqft_living'</code> then calculate the R^2. Take a screenshot of your code and the value of the R^2."
            ]
        },
        {
            "cell_type": "code",
            "execution_count": null,
            "metadata": {
                "jupyter": {
                    "outputs_hidden": false
                }
            },
            "outputs": [
                {
                    "data": {
                        "text/plain": [
                            "0.49285321790379316"
                        ]
                    },
                    "execution_count": 42,
                    "metadata": {},
                    "output_type": "execute_result"
                }
            ],
            "source": [
                "X = df[['sqft_living']]\n",
                "Y = df['price']\n",
                "lm1 = LinearRegression()\n",
                "lm1.fit(X,Y) \n",
                "lm1.score(X,Y)"
            ]
        },
        {
            "cell_type": "markdown",
            "metadata": {},
            "source": [
                "### Question 7\n",
                "Fit a linear regression model to predict the <code>'price'</code> using the list of features:"
            ]
        },
        {
            "cell_type": "code",
            "execution_count": null,
            "metadata": {},
            "outputs": [],
            "source": [
                "features =[\"floors\", \"waterfront\",\"lat\" ,\"bedrooms\" ,\"sqft_basement\" ,\"view\" ,\"bathrooms\",\"sqft_living15\",\"sqft_above\",\"grade\",\"sqft_living\"]     "
            ]
        },
        {
            "cell_type": "markdown",
            "metadata": {},
            "source": [
                "Then calculate the R^2. Take a screenshot of your code."
            ]
        },
        {
            "cell_type": "code",
            "execution_count": null,
            "metadata": {
                "jupyter": {
                    "outputs_hidden": false
                }
            },
            "outputs": [
                {
                    "data": {
                        "text/plain": [
                            "0.657679183672129"
                        ]
                    },
                    "execution_count": 44,
                    "metadata": {},
                    "output_type": "execute_result"
                }
            ],
            "source": [
                "lm2 = LinearRegression()\n",
                "lm2.fit(df[features],Y)\n",
                "lm2.score(df[features],Y)"
            ]
        },
        {
            "cell_type": "markdown",
            "metadata": {},
            "source": [
                "### This will help with Question 8\n",
                "\n",
                "Create a list of tuples, the first element in the tuple contains the name of the estimator:\n",
                "\n",
                "<code>'scale'</code>\n",
                "\n",
                "<code>'polynomial'</code>\n",
                "\n",
                "<code>'model'</code>\n",
                "\n",
                "The second element in the tuple  contains the model constructor \n",
                "\n",
                "<code>StandardScaler()</code>\n",
                "\n",
                "<code>PolynomialFeatures(include_bias=False)</code>\n",
                "\n",
                "<code>LinearRegression()</code>\n"
            ]
        },
        {
            "cell_type": "code",
            "execution_count": null,
            "metadata": {},
            "outputs": [],
            "source": [
                "Input=[('scale',StandardScaler()),('polynomial', PolynomialFeatures(include_bias=False)),('model',LinearRegression())]"
            ]
        },
        {
            "cell_type": "markdown",
            "metadata": {},
            "source": [
                "### Question 8\n",
                "Use the list to create a pipeline object to predict the 'price', fit the object using the features in the list <code>features</code>, and calculate the R^2."
            ]
        },
        {
            "cell_type": "code",
            "execution_count": null,
            "metadata": {
                "jupyter": {
                    "outputs_hidden": false
                }
            },
            "outputs": [
                {
                    "name": "stderr",
                    "output_type": "stream",
                    "text": [
                        "/opt/conda/envs/Python36/lib/python3.6/site-packages/sklearn/preprocessing/data.py:645: DataConversionWarning: Data with input dtype int64, float64 were all converted to float64 by StandardScaler.\n",
                        "  return self.partial_fit(X, y)\n",
                        "/opt/conda/envs/Python36/lib/python3.6/site-packages/sklearn/base.py:467: DataConversionWarning: Data with input dtype int64, float64 were all converted to float64 by StandardScaler.\n",
                        "  return self.fit(X, y, **fit_params).transform(X)\n",
                        "/opt/conda/envs/Python36/lib/python3.6/site-packages/sklearn/pipeline.py:511: DataConversionWarning: Data with input dtype int64, float64 were all converted to float64 by StandardScaler.\n",
                        "  Xt = transform.transform(Xt)\n"
                    ]
                },
                {
                    "data": {
                        "text/plain": [
                            "0.7513408553309376"
                        ]
                    },
                    "execution_count": 48,
                    "metadata": {},
                    "output_type": "execute_result"
                }
            ],
            "source": [
                "pipe = Pipeline(Input)\n",
                "pipe.fit(df[features],Y)\n",
                "pipe.score(df[features],Y)"
            ]
        },
        {
            "cell_type": "markdown",
            "metadata": {},
            "source": [
                "# Module 5: Model Evaluation and Refinement"
            ]
        },
        {
            "cell_type": "markdown",
            "metadata": {},
            "source": [
                "Import the necessary modules:"
            ]
        },
        {
            "cell_type": "code",
            "execution_count": null,
            "metadata": {
                "jupyter": {
                    "outputs_hidden": false
                }
            },
            "outputs": [
                {
                    "name": "stdout",
                    "output_type": "stream",
                    "text": [
                        "done\n"
                    ]
                }
            ],
            "source": [
                "from sklearn.model_selection import cross_val_score\n",
                "from sklearn.model_selection import train_test_split\n",
                "print(\"done\")"
            ]
        },
        {
            "cell_type": "markdown",
            "metadata": {},
            "source": [
                "We will split the data into training and testing sets:"
            ]
        },
        {
            "cell_type": "code",
            "execution_count": null,
            "metadata": {
                "jupyter": {
                    "outputs_hidden": false
                }
            },
            "outputs": [
                {
                    "name": "stdout",
                    "output_type": "stream",
                    "text": [
                        "number of test samples: 3242\n",
                        "number of training samples: 18371\n"
                    ]
                }
            ],
            "source": [
                "features =[\"floors\", \"waterfront\",\"lat\" ,\"bedrooms\" ,\"sqft_basement\" ,\"view\" ,\"bathrooms\",\"sqft_living15\",\"sqft_above\",\"grade\",\"sqft_living\"]    \n",
                "X = df[features]\n",
                "Y = df['price']\n",
                "\n",
                "x_train, x_test, y_train, y_test = train_test_split(X, Y, test_size=0.15, random_state=1)\n",
                "\n",
                "\n",
                "print(\"number of test samples:\", x_test.shape[0])\n",
                "print(\"number of training samples:\",x_train.shape[0])"
            ]
        },
        {
            "cell_type": "markdown",
            "metadata": {},
            "source": [
                "### Question 9\n",
                "Create and fit a Ridge regression object using the training data, set the regularization parameter to 0.1, and calculate the R^2 using the test data. \n"
            ]
        },
        {
            "cell_type": "code",
            "execution_count": null,
            "metadata": {},
            "outputs": [],
            "source": [
                "from sklearn.linear_model import Ridge"
            ]
        },
        {
            "cell_type": "code",
            "execution_count": null,
            "metadata": {
                "jupyter": {
                    "outputs_hidden": false
                }
            },
            "outputs": [
                {
                    "data": {
                        "text/plain": [
                            "0.6478759163939121"
                        ]
                    },
                    "execution_count": 58,
                    "metadata": {},
                    "output_type": "execute_result"
                }
            ],
            "source": [
                "ridge = Ridge(alpha=0.1)\n",
                "ridge.fit(x_train,y_train)\n",
                "ridge.score(x_test,y_test)"
            ]
        },
        {
            "cell_type": "markdown",
            "metadata": {},
            "source": [
                "### Question 10\n",
                "Perform a second order polynomial transform on both the training data and testing data. Create and fit a Ridge regression object using the training data, set the regularisation parameter to 0.1, and calculate the R^2 utilising the test data provided. Take a screenshot of your code and the R^2."
            ]
        },
        {
            "cell_type": "code",
            "execution_count": null,
            "metadata": {
                "jupyter": {
                    "outputs_hidden": false
                }
            },
            "outputs": [
                {
                    "data": {
                        "text/plain": [
                            "0.7002744279699229"
                        ]
                    },
                    "execution_count": 59,
                    "metadata": {},
                    "output_type": "execute_result"
                }
            ],
            "source": [
                "pr = PolynomialFeatures(degree=2)\n",
                "x_train_pr = pr.fit_transform(x_train)\n",
                "x_test_pr = pr.fit_transform(x_test)\n",
                "\n",
                "ridge_pr = Ridge(alpha=0.1)\n",
                "ridge_pr.fit(x_train_pr,y_train)\n",
                "ridge_pr.score(x_test_pr,y_test)"
            ]
        }
    ],
    "metadata": {
        "kernelspec": {
            "display_name": "Python 3.6",
            "language": "python",
            "name": "python3"
        },
        "language_info": {
            "codemirror_mode": {
                "name": "ipython",
                "version": 3
            },
            "file_extension": ".py",
            "mimetype": "text/x-python",
            "name": "python",
            "nbconvert_exporter": "python",
            "pygments_lexer": "ipython3",
            "version": "3.9.6"
        },
        "widgets": {
            "state": {},
            "version": "1.1.2"
        }
    },
    "nbformat": 4,
    "nbformat_minor": 4
}
